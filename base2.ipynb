{
 "cells": [
  {
   "cell_type": "code",
   "execution_count": 1,
   "metadata": {},
   "outputs": [],
   "source": [
    "import cv2\n",
    "import numpy as np\n",
    "from sklearn.model_selection import train_test_split\n",
    "from sklearn import svm\n",
    "import os"
   ]
  },
  {
   "cell_type": "code",
   "execution_count": 2,
   "metadata": {},
   "outputs": [],
   "source": [
    "\n",
    "input_folder = \"DSML Photos\"\n",
    "output_folder = \"Convert\""
   ]
  },
  {
   "cell_type": "code",
   "execution_count": 8,
   "metadata": {},
   "outputs": [],
   "source": [
    "\n",
    "if not os.path.exists(output_folder):\n",
    "    os.makedirs(output_folder)"
   ]
  },
  {
   "cell_type": "code",
   "execution_count": 10,
   "metadata": {},
   "outputs": [],
   "source": [
    "\n",
    "def process_images(image_file):\n",
    "    image = cv2.imread(os.path.join(input_folder, image_file))\n",
    "    height, width, _ = image.shape\n",
    "    \n",
    "    \n",
    "    num_parts = 10\n",
    "    part_height = height // num_parts\n",
    "    part_width = width // num_parts\n",
    "    \n",
    "    \n",
    "    for i in range(num_parts):\n",
    "        for j in range(num_parts):\n",
    "            part = image[i*part_height:(i+1)*part_height, j*part_width:(j+1)*part_width]\n",
    "            \n",
    "            resized_part = cv2.resize(part, (50, 50))\n",
    "            \n",
    "            cv2.imwrite(os.path.join(output_folder, f\"{image_file}_part_{i}_{j}.jpg\"), resized_part)\n",
    "\n",
    "\n",
    "for image_file in os.listdir(input_folder):\n",
    "    if image_file.endswith(\".jpg\") or image_file.endswith(\".png\"):\n",
    "        process_images(image_file)"
   ]
  }
 ],
 "metadata": {
  "kernelspec": {
   "display_name": "Python 3",
   "language": "python",
   "name": "python3"
  },
  "language_info": {
   "codemirror_mode": {
    "name": "ipython",
    "version": 3
   },
   "file_extension": ".py",
   "mimetype": "text/x-python",
   "name": "python",
   "nbconvert_exporter": "python",
   "pygments_lexer": "ipython3",
   "version": "3.11.4"
  }
 },
 "nbformat": 4,
 "nbformat_minor": 2
}
